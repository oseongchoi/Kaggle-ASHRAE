{
 "cells": [
  {
   "cell_type": "code",
   "execution_count": null,
   "metadata": {},
   "outputs": [],
   "source": [
    "import numpy as np\n",
    "import pandas as pd\n",
    "import matplotlib.pyplot as plt\n",
    "import tensorflow.keras as keras\n",
    "import tensorflow.keras.backend as K\n",
    "from sklearn.preprocessing import StandardScaler"
   ]
  },
  {
   "cell_type": "code",
   "execution_count": null,
   "metadata": {},
   "outputs": [],
   "source": [
    "df = pd.read_pickle('train.pickle')\n",
    "df.dropna(axis='columns', inplace=True)\n",
    "df"
   ]
  },
  {
   "cell_type": "code",
   "execution_count": null,
   "metadata": {},
   "outputs": [],
   "source": [
    "meter = df.meter\n",
    "building_id = df.building_id\n",
    "site_id = df.site_id\n",
    "primary_use = df.primary_use\n",
    "day = df.day - 1\n",
    "hour = df.hour\n",
    "weekday = df.weekday\n",
    "numerics = df[['square_feet', 'air_temperature', 'dew_temperature', 'wind_direction', 'wind_speed', 'air_temperature_24', 'air_temperature_48', 'air_temperature_96', 'dew_temperature_24', 'dew_temperature_48', 'dew_temperature_96']]\n",
    "numerics = StandardScaler().fit_transform(numerics)\n",
    "meter_reading = df.meter_reading"
   ]
  },
  {
   "cell_type": "code",
   "execution_count": null,
   "metadata": {},
   "outputs": [],
   "source": [
    "def generate_network():\n",
    "    K.clear_session()\n",
    "    \n",
    "    meter = keras.layers.Input(1)\n",
    "    building_id = keras.layers.Input(1)\n",
    "    site_id = keras.layers.Input(1)\n",
    "    primary_use = keras.layers.Input(1)\n",
    "    day = keras.layers.Input(1)\n",
    "    hour = keras.layers.Input(1)\n",
    "    weekday = keras.layers.Input(1)\n",
    "    numerics = keras.layers.Input(11)\n",
    "    \n",
    "    embeddings = []\n",
    "    embeddings.append(keras.layers.Embedding(4, 32)(meter))\n",
    "    embeddings.append(keras.layers.Embedding(1449, 32)(building_id))\n",
    "    embeddings.append(keras.layers.Embedding(16, 32)(site_id))\n",
    "    embeddings.append(keras.layers.Embedding(16, 32)(primary_use))\n",
    "    embeddings.append(keras.layers.Embedding(31, 32)(day))\n",
    "    embeddings.append(keras.layers.Embedding(24, 32)(hour))\n",
    "    embeddings.append(keras.layers.Embedding(7, 32)(weekday))\n",
    "    \n",
    "    layers = [numerics]\n",
    "    for embedding in embeddings:\n",
    "        layers.append(keras.layers.Flatten()(embedding))        \n",
    "    \n",
    "    prev = keras.layers.Concatenate()(layers)\n",
    "    \n",
    "    residual = None\n",
    "    for i in range(20):\n",
    "        prev = keras.layers.Dense(64, kernel_initializer='he_uniform')(prev)\n",
    "        prev = keras.layers.BatchNormalization(momentum=0.9)(prev)\n",
    "        prev = keras.layers.Activation('elu')(prev)\n",
    "        \n",
    "        if residual is None:\n",
    "            residual = prev\n",
    "        else:\n",
    "            prev = keras.layers.Add()([prev, residual])\n",
    "            residual = prev\n",
    "            \n",
    "        prev = keras.layers.Dropout(0.5)(prev)\n",
    "        \n",
    "    outputs = keras.layers.Dense(1)(prev)\n",
    "    \n",
    "    return keras.models.Model(inputs=[meter, building_id, site_id, primary_use, day, hour, weekday, numerics], outputs=outputs)"
   ]
  },
  {
   "cell_type": "code",
   "execution_count": null,
   "metadata": {},
   "outputs": [],
   "source": [
    "X = [meter, building_id, site_id, primary_use, day, hour, weekday, numerics]\n",
    "y = meter_reading\n",
    "earlystopping = keras.callbacks.EarlyStopping(patience=5, restore_best_weights=True)\n",
    "\n",
    "model = generate_network()\n",
    "model.compile(loss='mse')\n",
    "model.fit(X, y, batch_size=32768, epochs=100, callbacks=[earlystopping], validation_split=0.25)"
   ]
  }
 ],
 "metadata": {
  "kernelspec": {
   "display_name": "Python 3",
   "language": "python",
   "name": "python3"
  },
  "language_info": {
   "codemirror_mode": {
    "name": "ipython",
    "version": 3
   },
   "file_extension": ".py",
   "mimetype": "text/x-python",
   "name": "python",
   "nbconvert_exporter": "python",
   "pygments_lexer": "ipython3",
   "version": "3.7.5"
  }
 },
 "nbformat": 4,
 "nbformat_minor": 4
}
