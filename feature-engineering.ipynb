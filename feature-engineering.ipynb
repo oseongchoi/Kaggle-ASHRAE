{
 "cells": [
  {
   "cell_type": "markdown",
   "metadata": {},
   "source": [
    "##### Load modules"
   ]
  },
  {
   "cell_type": "code",
   "execution_count": 1,
   "metadata": {},
   "outputs": [],
   "source": [
    "import numpy as np\n",
    "import pandas as pd\n",
    "from sklearn.preprocessing import LabelEncoder\n",
    "import warnings\n",
    "warnings.simplefilter(action='ignore', category=FutureWarning)"
   ]
  },
  {
   "cell_type": "code",
   "execution_count": 2,
   "metadata": {},
   "outputs": [],
   "source": [
    "def reduce_mem_usage(df):\n",
    "    \"\"\" iterate through all the columns of a dataframe and modify the data type\n",
    "        to reduce memory usage.        \n",
    "    \"\"\"\n",
    "    start_mem = df.memory_usage().sum() / 1024**2\n",
    "    print('Memory usage of dataframe is {:.2f} MB'.format(start_mem))\n",
    "    \n",
    "    for col in df.columns:\n",
    "        col_type = df[col].dtype\n",
    "        \n",
    "        if col_type != object:\n",
    "            c_min = df[col].min()\n",
    "            c_max = df[col].max()\n",
    "            if str(col_type)[:3] == 'int':\n",
    "                if c_min > np.iinfo(np.int8).min and c_max < np.iinfo(np.int8).max:\n",
    "                    df[col] = df[col].astype(np.int8)\n",
    "                elif c_min > np.iinfo(np.int16).min and c_max < np.iinfo(np.int16).max:\n",
    "                    df[col] = df[col].astype(np.int16)\n",
    "                elif c_min > np.iinfo(np.int32).min and c_max < np.iinfo(np.int32).max:\n",
    "                    df[col] = df[col].astype(np.int32)\n",
    "                elif c_min > np.iinfo(np.int64).min and c_max < np.iinfo(np.int64).max:\n",
    "                    df[col] = df[col].astype(np.int64)  \n",
    "            else:\n",
    "                if c_min > np.finfo(np.float16).min and c_max < np.finfo(np.float16).max:\n",
    "                    df[col] = df[col].astype(np.float16)\n",
    "                elif c_min > np.finfo(np.float32).min and c_max < np.finfo(np.float32).max:\n",
    "                    df[col] = df[col].astype(np.float32)\n",
    "                else:\n",
    "                    df[col] = df[col].astype(np.float64)\n",
    "        else:\n",
    "            df[col] = df[col].astype('category')\n",
    "\n",
    "    end_mem = df.memory_usage().sum() / 1024**2\n",
    "    print('Memory usage after optimization is: {:.2f} MB'.format(end_mem))\n",
    "    print('Decreased by {:.1f}%'.format(100 * (start_mem - end_mem) / start_mem))\n",
    "    \n",
    "    return df"
   ]
  },
  {
   "cell_type": "markdown",
   "metadata": {},
   "source": [
    "##### Load and preprocess building meta file"
   ]
  },
  {
   "cell_type": "code",
   "execution_count": 3,
   "metadata": {},
   "outputs": [
    {
     "name": "stdout",
     "output_type": "stream",
     "text": [
      "Memory usage of dataframe is 0.07 MB\n",
      "Memory usage after optimization is: 0.02 MB\n",
      "Decreased by 73.8%\n"
     ]
    }
   ],
   "source": [
    "df_building = reduce_mem_usage(pd.read_csv('building_metadata.csv'))\n",
    "df_building['primary_use'] = LabelEncoder().fit_transform(df_building.primary_use)"
   ]
  },
  {
   "cell_type": "markdown",
   "metadata": {},
   "source": [
    "##### Preprocess train dataset"
   ]
  },
  {
   "cell_type": "code",
   "execution_count": 4,
   "metadata": {},
   "outputs": [
    {
     "name": "stdout",
     "output_type": "stream",
     "text": [
      "Memory usage of dataframe is 616.95 MB\n",
      "Memory usage after optimization is: 173.90 MB\n",
      "Decreased by 71.8%\n",
      "Memory usage of dataframe is 9.60 MB\n",
      "Memory usage after optimization is: 2.65 MB\n",
      "Decreased by 72.4%\n",
      "Memory usage of dataframe is 2615.03 MB\n",
      "Memory usage after optimization is: 1099.07 MB\n",
      "Decreased by 58.0%\n"
     ]
    }
   ],
   "source": [
    "# load csv files\n",
    "df_meter = reduce_mem_usage(pd.read_csv('train.csv'))\n",
    "df_weather = reduce_mem_usage(pd.read_csv('weather_train.csv'))\n",
    "\n",
    "# create a dense timestamp (bcz weather's is sparse)\n",
    "timestamp = df_meter.timestamp.unique()\n",
    "timestamp = np.sort(timestamp)\n",
    "timestamp = pd.DataFrame(data=timestamp, columns=['timestamp'])\n",
    "\n",
    "dt = pd.DatetimeIndex(timestamp.timestamp)\n",
    "timestamp['day'] = dt.day\n",
    "timestamp['hour'] = dt.hour\n",
    "timestamp['weekday'] = dt.weekday\n",
    "\n",
    "# project each site's weather data to the dense timestamp and do interpolation\n",
    "dfs = []\n",
    "for idx, group in df_weather.groupby('site_id'):\n",
    "    group = pd.merge(timestamp, group, on='timestamp', how='left')\n",
    "    group = group.interpolate(limit_direction='both')\n",
    "#     group['air_temperature_12'] = group.air_temperature.rolling(12).mean().fillna(method='bfill')\n",
    "    group['air_temperature_24'] = group.air_temperature.rolling(24).mean().fillna(method='bfill')\n",
    "    group['air_temperature_48'] = group.air_temperature.rolling(48).mean().fillna(method='bfill')\n",
    "    group['air_temperature_96'] = group.air_temperature.rolling(96).mean().fillna(method='bfill')\n",
    "#     group['dew_temperature_12'] = group.dew_temperature.rolling(12).mean().fillna(method='bfill')\n",
    "    group['dew_temperature_24'] = group.dew_temperature.rolling(24).mean().fillna(method='bfill')\n",
    "    group['dew_temperature_48'] = group.dew_temperature.rolling(48).mean().fillna(method='bfill')\n",
    "    group['dew_temperature_96'] = group.dew_temperature.rolling(96).mean().fillna(method='bfill')\n",
    "#     group['sea_level_pressure_12'] = group.sea_level_pressure.rolling(12).mean().fillna(method='bfill')\n",
    "    group['sea_level_pressure_24'] = group.sea_level_pressure.rolling(24).mean().fillna(method='bfill')\n",
    "    group['sea_level_pressure_48'] = group.sea_level_pressure.rolling(48).mean().fillna(method='bfill')\n",
    "    group['sea_level_pressure_96'] = group.sea_level_pressure.rolling(96).mean().fillna(method='bfill')\n",
    "    dfs.append(group)\n",
    "df_weather = pd.concat(dfs)\n",
    "\n",
    "# merge meter data with the building data\n",
    "df = pd.merge(df_meter, df_building, on='building_id', how='left')\n",
    "\n",
    "# merge meter data with the weather data\n",
    "df = pd.merge(df, df_weather, on=['site_id', 'timestamp'], how='left')\n",
    "\n",
    "# mathmatical conversion\n",
    "df['meter_reading'] = np.log1p(df.meter_reading)\n",
    "df['wind_direction'] = np.round(df.wind_direction, -1)\n",
    "\n",
    "# reduce memory size\n",
    "where = df.meter == 0\n",
    "where &= df.site_id == 0\n",
    "where &= df.timestamp < '2016-05-20'\n",
    "df.drop(index=df[where].index, inplace=True)\n",
    "df.drop(columns='timestamp', inplace=True)\n",
    "df = reduce_mem_usage(df)\n",
    "\n",
    "# save to the disk\n",
    "df.to_pickle('train.pickle')\n",
    "\n",
    "# Collect memory\n",
    "del df, dfs, idx, group, df_meter, df_weather, timestamp, dt"
   ]
  },
  {
   "cell_type": "markdown",
   "metadata": {},
   "source": [
    "##### Preprocess test dataset"
   ]
  },
  {
   "cell_type": "code",
   "execution_count": 5,
   "metadata": {},
   "outputs": [
    {
     "name": "stdout",
     "output_type": "stream",
     "text": [
      "Memory usage of dataframe is 1272.51 MB\n",
      "Memory usage after optimization is: 358.65 MB\n",
      "Decreased by 71.8%\n",
      "Memory usage of dataframe is 19.04 MB\n",
      "Memory usage after optimization is: 5.25 MB\n",
      "Decreased by 72.4%\n",
      "Memory usage of dataframe is 5487.70 MB\n",
      "Memory usage after optimization is: 2385.96 MB\n",
      "Decreased by 56.5%\n"
     ]
    }
   ],
   "source": [
    "## load csv files\n",
    "df_meter = reduce_mem_usage(pd.read_csv('test.csv'))\n",
    "df_weather = reduce_mem_usage(pd.read_csv('weather_test.csv'))\n",
    "\n",
    "# create a dense timestamp (bcz weather's is sparse)\n",
    "timestamp = df_meter.timestamp.unique()\n",
    "timestamp = np.sort(timestamp)\n",
    "timestamp = pd.DataFrame(data=timestamp, columns=['timestamp'])\n",
    "\n",
    "dt = pd.DatetimeIndex(timestamp.timestamp)\n",
    "timestamp['day'] = dt.day\n",
    "timestamp['hour'] = dt.hour\n",
    "timestamp['weekday'] = dt.weekday\n",
    "\n",
    "# project each site's weather data to the dense timestamp and do interpolation\n",
    "dfs = []\n",
    "for idx, group in df_weather.groupby('site_id'):\n",
    "    group = pd.merge(timestamp, group, on='timestamp', how='left')\n",
    "    group = group.interpolate(limit_direction='both')\n",
    "#     group['air_temperature_12'] = group.air_temperature.rolling(12).mean().fillna(method='bfill')\n",
    "    group['air_temperature_24'] = group.air_temperature.rolling(24).mean().fillna(method='bfill')\n",
    "    group['air_temperature_48'] = group.air_temperature.rolling(48).mean().fillna(method='bfill')\n",
    "    group['air_temperature_96'] = group.air_temperature.rolling(96).mean().fillna(method='bfill')\n",
    "#     group['dew_temperature_12'] = group.dew_temperature.rolling(12).mean().fillna(method='bfill')\n",
    "    group['dew_temperature_24'] = group.dew_temperature.rolling(24).mean().fillna(method='bfill')\n",
    "    group['dew_temperature_48'] = group.dew_temperature.rolling(48).mean().fillna(method='bfill')\n",
    "    group['dew_temperature_96'] = group.dew_temperature.rolling(96).mean().fillna(method='bfill')\n",
    "#     group['sea_level_pressure_12'] = group.sea_level_pressure.rolling(12).mean().fillna(method='bfill')\n",
    "    group['sea_level_pressure_24'] = group.sea_level_pressure.rolling(24).mean().fillna(method='bfill')\n",
    "    group['sea_level_pressure_48'] = group.sea_level_pressure.rolling(48).mean().fillna(method='bfill')\n",
    "    group['sea_level_pressure_96'] = group.sea_level_pressure.rolling(96).mean().fillna(method='bfill')\n",
    "    dfs.append(group)\n",
    "df_weather = pd.concat(dfs)\n",
    "\n",
    "# merge meter data with the building data\n",
    "df = pd.merge(df_meter, df_building, on='building_id', how='left')\n",
    "\n",
    "# merge meter data with the weather data\n",
    "df = pd.merge(df, df_weather, on=['site_id', 'timestamp'], how='left')\n",
    "\n",
    "# mathmatical conversion\n",
    "df['wind_direction'] = np.round(df.wind_direction, -1)\n",
    "\n",
    "# reduce memory size\n",
    "df.drop(columns='timestamp', inplace=True)\n",
    "df = reduce_mem_usage(df)\n",
    "\n",
    "# save to the disk\n",
    "df.to_pickle('test.pickle')\n",
    "\n",
    "# Collect memory\n",
    "del df, dfs, idx, group, df_meter, df_weather, timestamp, dt"
   ]
  }
 ],
 "metadata": {
  "kernelspec": {
   "display_name": "Python 3",
   "language": "python",
   "name": "python3"
  },
  "language_info": {
   "codemirror_mode": {
    "name": "ipython",
    "version": 3
   },
   "file_extension": ".py",
   "mimetype": "text/x-python",
   "name": "python",
   "nbconvert_exporter": "python",
   "pygments_lexer": "ipython3",
   "version": "3.7.5"
  }
 },
 "nbformat": 4,
 "nbformat_minor": 4
}
