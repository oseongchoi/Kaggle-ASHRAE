{
 "cells": [
  {
   "cell_type": "markdown",
   "metadata": {},
   "source": [
    "##### Using autoencoder, we're gonna make embedding vectors for each building_id.\n",
    "I expect the autoencoder can retract some informative feature via unsupervised learning.<br>\n",
    "For example, the similar pattern between buildings could be repersented as numeric values.<br>\n",
    "If we know this values, the final model will be more robust since he won't need to learn that values from the final learning step."
   ]
  },
  {
   "cell_type": "markdown",
   "metadata": {},
   "source": [
    "#### Load modules"
   ]
  },
  {
   "cell_type": "code",
   "execution_count": 1,
   "metadata": {},
   "outputs": [],
   "source": [
    "import numpy as np\n",
    "import pandas as pd\n",
    "import matplotlib.pyplot as plt\n",
    "import seaborn as sns\n",
    "\n",
    "import tensorflow as tf\n",
    "import tensorflow.keras as keras\n",
    "import tensorflow.keras.backend as K\n",
    "\n",
    "from sklearn.preprocessing import StandardScaler"
   ]
  },
  {
   "cell_type": "markdown",
   "metadata": {},
   "source": [
    "#### Load dataset"
   ]
  },
  {
   "cell_type": "code",
   "execution_count": 2,
   "metadata": {},
   "outputs": [],
   "source": [
    "df = pd.read_pickle('train.pickle')\n",
    "df.dropna(axis='columns', inplace=True)\n",
    "\n",
    "building_id = df.building_id.values.reshape(-1, 1)\n",
    "others = StandardScaler().fit_transform(df.drop(columns='building_id'))"
   ]
  },
  {
   "cell_type": "code",
   "execution_count": 3,
   "metadata": {},
   "outputs": [
    {
     "data": {
      "text/plain": [
       "(19869988, 1)"
      ]
     },
     "execution_count": 3,
     "metadata": {},
     "output_type": "execute_result"
    }
   ],
   "source": [
    "building_id.shape"
   ]
  },
  {
   "cell_type": "code",
   "execution_count": 4,
   "metadata": {},
   "outputs": [
    {
     "data": {
      "text/plain": [
       "(19869988, 18)"
      ]
     },
     "execution_count": 4,
     "metadata": {},
     "output_type": "execute_result"
    }
   ],
   "source": [
    "others.shape"
   ]
  },
  {
   "cell_type": "markdown",
   "metadata": {},
   "source": [
    "#### Build autoencoder"
   ]
  },
  {
   "cell_type": "code",
   "execution_count": 5,
   "metadata": {},
   "outputs": [],
   "source": [
    "def construct():\n",
    "    K.clear_session()\n",
    "    \n",
    "    building_id = keras.layers.Input(shape=1)\n",
    "    building_embedding = keras.layers.Embedding(1449, 32)(building_id)\n",
    "    building_embedding = keras.layers.Flatten()(building_embedding)\n",
    "    \n",
    "    others = keras.layers.Input(shape=18)\n",
    "    prev = keras.layers.Concatenate()([building_embedding, others])\n",
    "        \n",
    "    prev = keras.layers.Dense(16)(prev)\n",
    "    prev = keras.layers.BatchNormalization(momentum=0.8)(prev)\n",
    "    prev = keras.layers.Activation('elu')(prev)\n",
    "    \n",
    "    prev = keras.layers.Dense(8)(prev)\n",
    "    prev = keras.layers.BatchNormalization(momentum=0.8)(prev)\n",
    "    prev = keras.layers.Activation('elu')(prev)\n",
    "    \n",
    "    prev = keras.layers.Dense(16)(prev)\n",
    "    prev = keras.layers.BatchNormalization(momentum=0.8)(prev)\n",
    "    prev = keras.layers.Activation('elu')(prev)\n",
    "    \n",
    "    prev = keras.layers.Dense(18)(prev)\n",
    "    \n",
    "    autoencoder = keras.Model(inputs=[building_id, others], outputs=prev)\n",
    "    embedding = keras.Model(inputs=building_id, outputs=building_embedding)\n",
    "    \n",
    "    return autoencoder, embedding\n",
    "    \n",
    "autoencoder, embedding = construct()"
   ]
  },
  {
   "cell_type": "code",
   "execution_count": 6,
   "metadata": {},
   "outputs": [
    {
     "name": "stdout",
     "output_type": "stream",
     "text": [
      "Train on 15895990 samples, validate on 3973998 samples\n",
      "Epoch 1/100\n",
      "15895990/15895990 [==============================] - 10s 1us/sample - loss: 0.4662 - val_loss: 0.2105\n",
      "Epoch 2/100\n",
      "15895990/15895990 [==============================] - 7s 0us/sample - loss: 0.1669 - val_loss: 0.1529\n",
      "Epoch 3/100\n",
      "15895990/15895990 [==============================] - 7s 0us/sample - loss: 0.1246 - val_loss: 0.1242\n",
      "Epoch 4/100\n",
      "15895990/15895990 [==============================] - 7s 0us/sample - loss: 0.1036 - val_loss: 0.1068\n",
      "Epoch 5/100\n",
      "15895990/15895990 [==============================] - 7s 0us/sample - loss: 0.0927 - val_loss: 0.1008\n",
      "Epoch 6/100\n",
      "15895990/15895990 [==============================] - 7s 0us/sample - loss: 0.0886 - val_loss: 0.0982\n",
      "Epoch 7/100\n",
      "15895990/15895990 [==============================] - 7s 0us/sample - loss: 0.0866 - val_loss: 0.0963\n",
      "Epoch 8/100\n",
      "15895990/15895990 [==============================] - 7s 0us/sample - loss: 0.0852 - val_loss: 0.0953\n",
      "Epoch 9/100\n",
      "15895990/15895990 [==============================] - 7s 0us/sample - loss: 0.0841 - val_loss: 0.0936\n",
      "Epoch 10/100\n",
      "15895990/15895990 [==============================] - 7s 0us/sample - loss: 0.0828 - val_loss: 0.0921\n",
      "Epoch 11/100\n",
      "15895990/15895990 [==============================] - 7s 0us/sample - loss: 0.0814 - val_loss: 0.0903\n",
      "Epoch 12/100\n",
      "15895990/15895990 [==============================] - 7s 0us/sample - loss: 0.0802 - val_loss: 0.0891\n",
      "Epoch 13/100\n",
      "15895990/15895990 [==============================] - 7s 0us/sample - loss: 0.0791 - val_loss: 0.0879\n",
      "Epoch 14/100\n",
      "15895990/15895990 [==============================] - 7s 0us/sample - loss: 0.0781 - val_loss: 0.0874\n",
      "Epoch 15/100\n",
      "15895990/15895990 [==============================] - 7s 0us/sample - loss: 0.0773 - val_loss: 0.0866\n",
      "Epoch 16/100\n",
      "15895990/15895990 [==============================] - 7s 0us/sample - loss: 0.0767 - val_loss: 0.0854\n",
      "Epoch 17/100\n",
      "15895990/15895990 [==============================] - 7s 0us/sample - loss: 0.0763 - val_loss: 0.0862\n",
      "Epoch 18/100\n",
      "15895990/15895990 [==============================] - 7s 0us/sample - loss: 0.0760 - val_loss: 0.0845\n",
      "Epoch 19/100\n",
      "15895990/15895990 [==============================] - 7s 0us/sample - loss: 0.0757 - val_loss: 0.0853\n",
      "Epoch 20/100\n",
      "15895990/15895990 [==============================] - 7s 0us/sample - loss: 0.0754 - val_loss: 0.0853\n",
      "Epoch 21/100\n",
      "15895990/15895990 [==============================] - 7s 0us/sample - loss: 0.0752 - val_loss: 0.0850\n",
      "Epoch 22/100\n",
      "15895990/15895990 [==============================] - 7s 0us/sample - loss: 0.0750 - val_loss: 0.0841\n",
      "Epoch 23/100\n",
      "15895990/15895990 [==============================] - 7s 0us/sample - loss: 0.0749 - val_loss: 0.0854\n",
      "Epoch 24/100\n",
      "15895990/15895990 [==============================] - 7s 0us/sample - loss: 0.0747 - val_loss: 0.0851\n",
      "Epoch 25/100\n",
      "15895990/15895990 [==============================] - 7s 0us/sample - loss: 0.0746 - val_loss: 0.0835\n",
      "Epoch 26/100\n",
      "15895990/15895990 [==============================] - 7s 0us/sample - loss: 0.0744 - val_loss: 0.0835\n",
      "Epoch 27/100\n",
      "15895990/15895990 [==============================] - 7s 0us/sample - loss: 0.0743 - val_loss: 0.0827\n",
      "Epoch 28/100\n",
      "15895990/15895990 [==============================] - 7s 0us/sample - loss: 0.0742 - val_loss: 0.0832\n",
      "Epoch 29/100\n",
      "15895990/15895990 [==============================] - 7s 0us/sample - loss: 0.0741 - val_loss: 0.0821\n",
      "Epoch 30/100\n",
      "15895990/15895990 [==============================] - 7s 0us/sample - loss: 0.0740 - val_loss: 0.0825\n",
      "Epoch 31/100\n",
      "15895990/15895990 [==============================] - 7s 0us/sample - loss: 0.0738 - val_loss: 0.0820\n",
      "Epoch 32/100\n",
      "15895990/15895990 [==============================] - 7s 0us/sample - loss: 0.0737 - val_loss: 0.0826\n",
      "Epoch 33/100\n",
      "15895990/15895990 [==============================] - 7s 0us/sample - loss: 0.0736 - val_loss: 0.0823\n",
      "Epoch 34/100\n",
      "15895990/15895990 [==============================] - 7s 0us/sample - loss: 0.0735 - val_loss: 0.0832\n",
      "Epoch 35/100\n",
      "15895990/15895990 [==============================] - 7s 0us/sample - loss: 0.0734 - val_loss: 0.0824\n",
      "Epoch 36/100\n",
      "15895990/15895990 [==============================] - 7s 0us/sample - loss: 0.0733 - val_loss: 0.0824\n",
      "Epoch 37/100\n",
      "15895990/15895990 [==============================] - 7s 0us/sample - loss: 0.0732 - val_loss: 0.0820\n",
      "Epoch 38/100\n",
      "15895990/15895990 [==============================] - 7s 0us/sample - loss: 0.0730 - val_loss: 0.0819\n",
      "Epoch 39/100\n",
      "15895990/15895990 [==============================] - 7s 0us/sample - loss: 0.0729 - val_loss: 0.0820\n",
      "Epoch 40/100\n",
      "15895990/15895990 [==============================] - 7s 0us/sample - loss: 0.0727 - val_loss: 0.0809\n",
      "Epoch 41/100\n",
      "15895990/15895990 [==============================] - 7s 0us/sample - loss: 0.0725 - val_loss: 0.0808\n",
      "Epoch 42/100\n",
      "15895990/15895990 [==============================] - 7s 0us/sample - loss: 0.0722 - val_loss: 0.0807\n",
      "Epoch 43/100\n",
      "15895990/15895990 [==============================] - 7s 0us/sample - loss: 0.0719 - val_loss: 0.0811\n",
      "Epoch 44/100\n",
      "15895990/15895990 [==============================] - 7s 0us/sample - loss: 0.0714 - val_loss: 0.0791\n",
      "Epoch 45/100\n",
      "15895990/15895990 [==============================] - 7s 0us/sample - loss: 0.0709 - val_loss: 0.0806\n",
      "Epoch 46/100\n",
      "15895990/15895990 [==============================] - 7s 0us/sample - loss: 0.0704 - val_loss: 0.0785\n",
      "Epoch 47/100\n",
      "15895990/15895990 [==============================] - 7s 0us/sample - loss: 0.0698 - val_loss: 0.0777\n",
      "Epoch 48/100\n",
      "15895990/15895990 [==============================] - 7s 0us/sample - loss: 0.0692 - val_loss: 0.0763\n",
      "Epoch 49/100\n",
      "15895990/15895990 [==============================] - 8s 0us/sample - loss: 0.0686 - val_loss: 0.0757\n",
      "Epoch 50/100\n",
      "15895990/15895990 [==============================] - 7s 0us/sample - loss: 0.0680 - val_loss: 0.0756\n",
      "Epoch 51/100\n",
      "15895990/15895990 [==============================] - 7s 0us/sample - loss: 0.0675 - val_loss: 0.0756\n",
      "Epoch 52/100\n",
      "15895990/15895990 [==============================] - 7s 0us/sample - loss: 0.0670 - val_loss: 0.0741\n",
      "Epoch 53/100\n",
      "15895990/15895990 [==============================] - 7s 0us/sample - loss: 0.0666 - val_loss: 0.0732\n",
      "Epoch 54/100\n",
      "15895990/15895990 [==============================] - 7s 0us/sample - loss: 0.0662 - val_loss: 0.0727\n",
      "Epoch 55/100\n",
      "15895990/15895990 [==============================] - 7s 0us/sample - loss: 0.0659 - val_loss: 0.0722\n",
      "Epoch 56/100\n",
      "15895990/15895990 [==============================] - 7s 0us/sample - loss: 0.0655 - val_loss: 0.0732\n",
      "Epoch 57/100\n",
      "15895990/15895990 [==============================] - 7s 0us/sample - loss: 0.0652 - val_loss: 0.0722\n",
      "Epoch 58/100\n",
      "15895990/15895990 [==============================] - 7s 0us/sample - loss: 0.0650 - val_loss: 0.0709\n",
      "Epoch 59/100\n",
      "15895990/15895990 [==============================] - 7s 0us/sample - loss: 0.0647 - val_loss: 0.0723\n",
      "Epoch 60/100\n",
      "15895990/15895990 [==============================] - 7s 0us/sample - loss: 0.0645 - val_loss: 0.0712\n",
      "Epoch 61/100\n",
      "15895990/15895990 [==============================] - 7s 0us/sample - loss: 0.0643 - val_loss: 0.0719\n",
      "Epoch 62/100\n",
      "15895990/15895990 [==============================] - 7s 0us/sample - loss: 0.0641 - val_loss: 0.0701\n",
      "Epoch 63/100\n",
      "15895990/15895990 [==============================] - 7s 0us/sample - loss: 0.0640 - val_loss: 0.0706\n",
      "Epoch 64/100\n",
      "15895990/15895990 [==============================] - 7s 0us/sample - loss: 0.0638 - val_loss: 0.0719\n",
      "Epoch 65/100\n",
      "15895990/15895990 [==============================] - 7s 0us/sample - loss: 0.0636 - val_loss: 0.0708\n",
      "Epoch 66/100\n",
      "15895990/15895990 [==============================] - 7s 0us/sample - loss: 0.0635 - val_loss: 0.0691\n",
      "Epoch 67/100\n",
      "15895990/15895990 [==============================] - 7s 0us/sample - loss: 0.0634 - val_loss: 0.0690\n",
      "Epoch 68/100\n",
      "15895990/15895990 [==============================] - 7s 0us/sample - loss: 0.0632 - val_loss: 0.0717\n",
      "Epoch 69/100\n",
      "15895990/15895990 [==============================] - 7s 0us/sample - loss: 0.0631 - val_loss: 0.0686\n",
      "Epoch 70/100\n",
      "15895990/15895990 [==============================] - 7s 0us/sample - loss: 0.0630 - val_loss: 0.0721\n",
      "Epoch 71/100\n",
      "15895990/15895990 [==============================] - 7s 0us/sample - loss: 0.0629 - val_loss: 0.0686\n",
      "Epoch 72/100\n",
      "15895990/15895990 [==============================] - 7s 0us/sample - loss: 0.0628 - val_loss: 0.0691\n",
      "Epoch 73/100\n",
      "15895990/15895990 [==============================] - 7s 0us/sample - loss: 0.0627 - val_loss: 0.0689\n",
      "Epoch 74/100\n",
      "15895990/15895990 [==============================] - 7s 0us/sample - loss: 0.0626 - val_loss: 0.0683\n",
      "Epoch 75/100\n",
      "15895990/15895990 [==============================] - 7s 0us/sample - loss: 0.0625 - val_loss: 0.0686\n",
      "Epoch 76/100\n",
      "15895990/15895990 [==============================] - 7s 0us/sample - loss: 0.0624 - val_loss: 0.0711\n",
      "Epoch 77/100\n",
      "15895990/15895990 [==============================] - 7s 0us/sample - loss: 0.0623 - val_loss: 0.0689\n",
      "Epoch 78/100\n",
      "15895990/15895990 [==============================] - 7s 0us/sample - loss: 0.0622 - val_loss: 0.0704\n",
      "Epoch 79/100\n",
      "15895990/15895990 [==============================] - 8s 0us/sample - loss: 0.0622 - val_loss: 0.0687\n",
      "Epoch 80/100\n",
      "15895990/15895990 [==============================] - 7s 0us/sample - loss: 0.0621 - val_loss: 0.0687\n",
      "Epoch 81/100\n",
      "15895990/15895990 [==============================] - 7s 0us/sample - loss: 0.0620 - val_loss: 0.0703\n",
      "Epoch 82/100\n",
      "15895990/15895990 [==============================] - 7s 0us/sample - loss: 0.0619 - val_loss: 0.0683\n",
      "Epoch 83/100\n",
      "15895990/15895990 [==============================] - 7s 0us/sample - loss: 0.0619 - val_loss: 0.0688\n",
      "Epoch 84/100\n",
      "15895990/15895990 [==============================] - 7s 0us/sample - loss: 0.0618 - val_loss: 0.0683\n",
      "Epoch 85/100\n",
      "15895990/15895990 [==============================] - 7s 0us/sample - loss: 0.0617 - val_loss: 0.0704\n",
      "Epoch 86/100\n",
      "15895990/15895990 [==============================] - 7s 0us/sample - loss: 0.0617 - val_loss: 0.0710\n",
      "Epoch 87/100\n",
      "15895990/15895990 [==============================] - 7s 0us/sample - loss: 0.0616 - val_loss: 0.0707\n",
      "Epoch 88/100\n",
      "15895990/15895990 [==============================] - 7s 0us/sample - loss: 0.0616 - val_loss: 0.0675\n",
      "Epoch 89/100\n",
      "15895990/15895990 [==============================] - 7s 0us/sample - loss: 0.0615 - val_loss: 0.0683\n",
      "Epoch 90/100\n",
      "15895990/15895990 [==============================] - 7s 0us/sample - loss: 0.0615 - val_loss: 0.0688\n",
      "Epoch 91/100\n",
      "15895990/15895990 [==============================] - 7s 0us/sample - loss: 0.0614 - val_loss: 0.0673\n",
      "Epoch 92/100\n",
      "15895990/15895990 [==============================] - 7s 0us/sample - loss: 0.0613 - val_loss: 0.0686\n",
      "Epoch 93/100\n",
      "15895990/15895990 [==============================] - 7s 0us/sample - loss: 0.0613 - val_loss: 0.0681\n",
      "Epoch 94/100\n",
      "15895990/15895990 [==============================] - 7s 0us/sample - loss: 0.0612 - val_loss: 0.0669\n",
      "Epoch 95/100\n",
      "15895990/15895990 [==============================] - 7s 0us/sample - loss: 0.0612 - val_loss: 0.0662\n",
      "Epoch 96/100\n",
      "15895990/15895990 [==============================] - 8s 0us/sample - loss: 0.0611 - val_loss: 0.0665\n",
      "Epoch 97/100\n",
      "15895990/15895990 [==============================] - 7s 0us/sample - loss: 0.0611 - val_loss: 0.0666\n",
      "Epoch 98/100\n",
      "15895990/15895990 [==============================] - 7s 0us/sample - loss: 0.0611 - val_loss: 0.0678\n",
      "Epoch 99/100\n",
      "15895990/15895990 [==============================] - 7s 0us/sample - loss: 0.0610 - val_loss: 0.0664\n",
      "Epoch 100/100\n",
      "15895990/15895990 [==============================] - 7s 0us/sample - loss: 0.0610 - val_loss: 0.0661\n"
     ]
    },
    {
     "data": {
      "text/plain": [
       "<tensorflow.python.keras.callbacks.History at 0x1ed898805c8>"
      ]
     },
     "execution_count": 6,
     "metadata": {},
     "output_type": "execute_result"
    }
   ],
   "source": [
    "early_stopping = keras.callbacks.EarlyStopping(patience=10, restore_best_weights=True)\n",
    "\n",
    "autoencoder.compile(loss='mse')\n",
    "autoencoder.fit(\n",
    "    x=[building_id, others],\n",
    "    y=others,\n",
    "    batch_size=65536,\n",
    "    epochs=100,\n",
    "    callbacks=[early_stopping],\n",
    "    validation_split=0.2\n",
    ")"
   ]
  },
  {
   "cell_type": "markdown",
   "metadata": {},
   "source": [
    "#### Save trained embedding model"
   ]
  },
  {
   "cell_type": "code",
   "execution_count": 7,
   "metadata": {},
   "outputs": [
    {
     "name": "stdout",
     "output_type": "stream",
     "text": [
      "WARNING:tensorflow:From C:\\Users\\Aiden\\Miniconda3\\envs\\ML\\lib\\site-packages\\tensorflow_core\\python\\ops\\resource_variable_ops.py:1781: calling BaseResourceVariable.__init__ (from tensorflow.python.ops.resource_variable_ops) with constraint is deprecated and will be removed in a future version.\n",
      "Instructions for updating:\n",
      "If using Keras pass *_constraint arguments to layers.\n",
      "INFO:tensorflow:Assets written to: building\\assets\n"
     ]
    }
   ],
   "source": [
    "embedding.save('building')"
   ]
  }
 ],
 "metadata": {
  "kernelspec": {
   "display_name": "Python 3",
   "language": "python",
   "name": "python3"
  },
  "language_info": {
   "codemirror_mode": {
    "name": "ipython",
    "version": 3
   },
   "file_extension": ".py",
   "mimetype": "text/x-python",
   "name": "python",
   "nbconvert_exporter": "python",
   "pygments_lexer": "ipython3",
   "version": "3.7.5"
  }
 },
 "nbformat": 4,
 "nbformat_minor": 4
}
