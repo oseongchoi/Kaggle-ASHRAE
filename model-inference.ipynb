{
 "cells": [
  {
   "cell_type": "markdown",
   "metadata": {},
   "source": [
    "##### Load modules"
   ]
  },
  {
   "cell_type": "code",
   "execution_count": 1,
   "metadata": {},
   "outputs": [],
   "source": [
    "import numpy as np\n",
    "import pandas as pd\n",
    "import lightgbm as lgb\n",
    "import warnings\n",
    "warnings.simplefilter(action='ignore', category=FutureWarning)"
   ]
  },
  {
   "cell_type": "markdown",
   "metadata": {},
   "source": [
    "##### Inference on test data"
   ]
  },
  {
   "cell_type": "code",
   "execution_count": 2,
   "metadata": {},
   "outputs": [],
   "source": [
    "df = pd.read_pickle('test.pickle')"
   ]
  },
  {
   "cell_type": "code",
   "execution_count": 3,
   "metadata": {},
   "outputs": [],
   "source": [
    "def batch_inference(models, df, n_batch):\n",
    "    \n",
    "    result = []\n",
    "    n_batch = int(n_batch)\n",
    "    \n",
    "    for idx in np.arange(0, df.shape[0], n_batch):\n",
    "        progress = idx / df.shape[0] * 100\n",
    "        progress = np.round(progress, 2)\n",
    "        print('\\r', progress, end='')\n",
    "        \n",
    "        start = idx\n",
    "        end = (idx + n_batch)\n",
    "        batch = df[start:end]\n",
    "                \n",
    "        pred = [model.predict(batch) for model in models]\n",
    "        pred = np.mean(pred, axis=0)\n",
    "        \n",
    "        result.append(pred)\n",
    "        \n",
    "    print('\\r', '100.00')\n",
    "    result = np.concatenate(result)\n",
    "    return result"
   ]
  },
  {
   "cell_type": "code",
   "execution_count": 4,
   "metadata": {},
   "outputs": [
    {
     "name": "stdout",
     "output_type": "stream",
     "text": [
      "========== Inference for 0 meter dataset ==========\n",
      " 100.00\n",
      "========== Inference for 1 meter dataset ==========\n",
      " 100.00\n",
      "========== Inference for 2 meter dataset ==========\n",
      " 100.00\n",
      "========== Inference for 3 meter dataset ==========\n",
      " 100.00\n"
     ]
    }
   ],
   "source": [
    "result = []\n",
    "\n",
    "for meter in range(4):\n",
    "    print('========== Inference for {} meter dataset =========='.format(meter))\n",
    "    \n",
    "    # Load models for given meter\n",
    "    models = [lgb.Booster(model_file='models/{}_{}.model'.format(meter, i)) for i in range(4)]\n",
    "    \n",
    "    # Prepare features\n",
    "    where = df.meter == meter\n",
    "    X = df[where].drop(columns='row_id')\n",
    "    y = df.loc[where, ['row_id']]\n",
    "    \n",
    "    # Conduct inference and store hypothesis\n",
    "    y['meter_reading'] = batch_inference(models, X, 1e4)\n",
    "    result.append(y)"
   ]
  },
  {
   "cell_type": "code",
   "execution_count": 5,
   "metadata": {},
   "outputs": [],
   "source": [
    "df = pd.concat(result)\n",
    "df['meter_reading'] = np.clip(df.meter_reading, 0, None)\n",
    "df['meter_reading'] = np.expm1(df.meter_reading)\n",
    "df.sort_values('row_id', inplace=True)\n",
    "df.to_csv('submission.csv', index=False)"
   ]
  }
 ],
 "metadata": {
  "kernelspec": {
   "display_name": "Python 3",
   "language": "python",
   "name": "python3"
  },
  "language_info": {
   "codemirror_mode": {
    "name": "ipython",
    "version": 3
   },
   "file_extension": ".py",
   "mimetype": "text/x-python",
   "name": "python",
   "nbconvert_exporter": "python",
   "pygments_lexer": "ipython3",
   "version": "3.7.5"
  }
 },
 "nbformat": 4,
 "nbformat_minor": 4
}
