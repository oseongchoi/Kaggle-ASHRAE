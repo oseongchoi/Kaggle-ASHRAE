{
 "cells": [
  {
   "cell_type": "markdown",
   "metadata": {},
   "source": [
    "##### Load modules"
   ]
  },
  {
   "cell_type": "code",
   "execution_count": 1,
   "metadata": {},
   "outputs": [],
   "source": [
    "import numpy as np\n",
    "import pandas as pd\n",
    "import seaborn as sns\n",
    "import matplotlib.pyplot as plt\n",
    "import gc\n",
    "import warnings\n",
    "warnings.simplefilter(action='ignore', category=FutureWarning)"
   ]
  },
  {
   "cell_type": "code",
   "execution_count": 2,
   "metadata": {},
   "outputs": [],
   "source": [
    "import lightgbm as lgb\n",
    "from sklearn.model_selection import KFold"
   ]
  },
  {
   "cell_type": "markdown",
   "metadata": {},
   "source": [
    "##### Load data"
   ]
  },
  {
   "cell_type": "code",
   "execution_count": 3,
   "metadata": {},
   "outputs": [],
   "source": [
    "df = pd.read_pickle('train.pickle')\n",
    "X = df.drop(columns='meter_reading')\n",
    "y = df.meter_reading"
   ]
  },
  {
   "cell_type": "markdown",
   "metadata": {},
   "source": [
    "##### Train models with K-Fold cross validation"
   ]
  },
  {
   "cell_type": "code",
   "execution_count": 4,
   "metadata": {},
   "outputs": [],
   "source": [
    "batches = [None, None, None]\n",
    "\n",
    "for _, df_group in df.groupby(['building_id', 'meter']):\n",
    "    \n",
    "    indices = df_group.index\n",
    "    indices = np.array_split(indices, 3)\n",
    "    \n",
    "    for idx, (batch, index) in enumerate(zip(batches, indices)):\n",
    "        if batch is None:\n",
    "            batches[idx] = index\n",
    "        else:\n",
    "            batches[idx] = batch.append(index)"
   ]
  },
  {
   "cell_type": "code",
   "execution_count": 5,
   "metadata": {},
   "outputs": [
    {
     "name": "stderr",
     "output_type": "stream",
     "text": [
      "C:\\Users\\Aiden\\Miniconda3\\envs\\ML\\lib\\site-packages\\lightgbm\\basic.py:1205: UserWarning: Using categorical_feature in Dataset.\n",
      "  warnings.warn('Using categorical_feature in Dataset.')\n",
      "C:\\Users\\Aiden\\Miniconda3\\envs\\ML\\lib\\site-packages\\lightgbm\\basic.py:762: UserWarning: categorical_feature in param dict is overridden.\n",
      "  warnings.warn('categorical_feature in param dict is overridden.')\n"
     ]
    },
    {
     "name": "stdout",
     "output_type": "stream",
     "text": [
      "Training until validation scores don't improve for 50 rounds.\n",
      "[100]\ttraining's rmse: 0.807431\tvalid_1's rmse: 0.974447\n",
      "[200]\ttraining's rmse: 0.752425\tvalid_1's rmse: 0.965919\n",
      "Early stopping, best iteration is:\n",
      "[158]\ttraining's rmse: 0.766266\tvalid_1's rmse: 0.964129\n",
      "\n",
      "Training until validation scores don't improve for 50 rounds.\n",
      "[100]\ttraining's rmse: 0.82509\tvalid_1's rmse: 0.920889\n",
      "[200]\ttraining's rmse: 0.774896\tvalid_1's rmse: 0.882842\n",
      "[300]\ttraining's rmse: 0.750885\tvalid_1's rmse: 0.868078\n",
      "[400]\ttraining's rmse: 0.732029\tvalid_1's rmse: 0.863439\n",
      "[500]\ttraining's rmse: 0.7181\tvalid_1's rmse: 0.860784\n",
      "[600]\ttraining's rmse: 0.703027\tvalid_1's rmse: 0.856683\n",
      "[700]\ttraining's rmse: 0.691474\tvalid_1's rmse: 0.854089\n",
      "[800]\ttraining's rmse: 0.681323\tvalid_1's rmse: 0.851986\n",
      "[900]\ttraining's rmse: 0.673802\tvalid_1's rmse: 0.850589\n",
      "[1000]\ttraining's rmse: 0.666915\tvalid_1's rmse: 0.847857\n",
      "[1100]\ttraining's rmse: 0.661549\tvalid_1's rmse: 0.846577\n",
      "[1200]\ttraining's rmse: 0.655369\tvalid_1's rmse: 0.845366\n",
      "[1300]\ttraining's rmse: 0.650403\tvalid_1's rmse: 0.844788\n",
      "[1400]\ttraining's rmse: 0.64587\tvalid_1's rmse: 0.843825\n",
      "Early stopping, best iteration is:\n",
      "[1416]\ttraining's rmse: 0.644972\tvalid_1's rmse: 0.843744\n",
      "\n",
      "Training until validation scores don't improve for 50 rounds.\n",
      "[100]\ttraining's rmse: 0.80948\tvalid_1's rmse: 0.980078\n",
      "[200]\ttraining's rmse: 0.755361\tvalid_1's rmse: 0.953533\n",
      "[300]\ttraining's rmse: 0.726294\tvalid_1's rmse: 0.945635\n",
      "[400]\ttraining's rmse: 0.705585\tvalid_1's rmse: 0.941613\n",
      "[500]\ttraining's rmse: 0.691157\tvalid_1's rmse: 0.939028\n",
      "[600]\ttraining's rmse: 0.680108\tvalid_1's rmse: 0.937448\n",
      "[700]\ttraining's rmse: 0.670681\tvalid_1's rmse: 0.936384\n",
      "[800]\ttraining's rmse: 0.662804\tvalid_1's rmse: 0.935599\n",
      "[900]\ttraining's rmse: 0.654722\tvalid_1's rmse: 0.934182\n",
      "[1000]\ttraining's rmse: 0.648838\tvalid_1's rmse: 0.933317\n",
      "[1100]\ttraining's rmse: 0.643892\tvalid_1's rmse: 0.932773\n",
      "[1200]\ttraining's rmse: 0.63906\tvalid_1's rmse: 0.932399\n",
      "Early stopping, best iteration is:\n",
      "[1182]\ttraining's rmse: 0.639966\tvalid_1's rmse: 0.932318\n",
      "\n"
     ]
    }
   ],
   "source": [
    "scores = {'estimator': [], 'train_score': [], 'test_score': []}\n",
    "params = {\n",
    "    'objective': 'regression',\n",
    "    'metric': {'rmse'},\n",
    "}\n",
    "\n",
    "for _ in range(3):  \n",
    "    train = batches[0].append(batches[1])\n",
    "    valid = batches[-1]\n",
    "    \n",
    "    train = lgb.Dataset(X.loc[train], y.loc[train], categorical_feature = ['building_id', 'meter', 'site_id', 'primary_use', 'hour', 'weekday'])\n",
    "    valid = lgb.Dataset(X.loc[valid], y.loc[valid], categorical_feature = ['building_id', 'meter', 'site_id', 'primary_use', 'hour', 'weekday'])\n",
    "    \n",
    "    estimator = lgb.train(\n",
    "        params=params,\n",
    "        train_set=train,\n",
    "        valid_sets=(train, valid),\n",
    "        num_boost_round=2000,\n",
    "        early_stopping_rounds=50,\n",
    "        verbose_eval=100\n",
    "    )\n",
    "    \n",
    "    scores['estimator'].append(estimator)\n",
    "    scores['train_score'].append(estimator.best_score['training']['rmse'])\n",
    "    scores['test_score'].append(estimator.best_score['valid_1']['rmse'])\n",
    "    \n",
    "    print()\n",
    "    \n",
    "    batches = np.roll(batches, 1)\n",
    "    gc.collect()"
   ]
  },
  {
   "cell_type": "code",
   "execution_count": 6,
   "metadata": {},
   "outputs": [
    {
     "name": "stdout",
     "output_type": "stream",
     "text": [
      "train_score    0.683735\n",
      "test_score     0.913397\n",
      "dtype: float64\n"
     ]
    },
    {
     "data": {
      "image/png": "[encoded data removed]",
      "text/plain": [
       "<Figure size 432x288 with 1 Axes>"
      ]
     },
     "metadata": {
      "needs_background": "light"
     },
     "output_type": "display_data"
    }
   ],
   "source": [
    "cols = ['train_score', 'test_score']\n",
    "scores = pd.DataFrame(scores)\n",
    "scores[cols] = scores[cols]\n",
    "scores[cols].plot(kind='bar')\n",
    "print(scores[cols].mean())"
   ]
  },
  {
   "cell_type": "code",
   "execution_count": 7,
   "metadata": {},
   "outputs": [
    {
     "data": {
      "image/png": "[encoded data removed]",
      "text/plain": [
       "<Figure size 864x864 with 1 Axes>"
      ]
     },
     "metadata": {
      "needs_background": "light"
     },
     "output_type": "display_data"
    }
   ],
   "source": [
    "feature_importances = [model.feature_importance() for model in scores['estimator']]\n",
    "feature_importances = np.mean(feature_importances, axis=0)\n",
    "feature_importances = pd.DataFrame(data=feature_importances, index=X.columns, columns=['feature_importance'])\n",
    "feature_importances.sort_values('feature_importance', ascending=False, inplace=True)\n",
    "\n",
    "plt.figure(figsize=[12, 12])\n",
    "sns.barplot(x=feature_importances.feature_importance, y=feature_importances.index, orient='h')\n",
    "plt.show()"
   ]
  },
  {
   "cell_type": "code",
   "execution_count": 8,
   "metadata": {},
   "outputs": [],
   "source": [
    "for idx, model in enumerate(scores['estimator']):\n",
    "    model.save_model('{}.model'.format(idx))"
   ]
  }
 ],
 "metadata": {
  "kernelspec": {
   "display_name": "Python 3",
   "language": "python",
   "name": "python3"
  },
  "language_info": {
   "codemirror_mode": {
    "name": "ipython",
    "version": 3
   },
   "file_extension": ".py",
   "mimetype": "text/x-python",
   "name": "python",
   "nbconvert_exporter": "python",
   "pygments_lexer": "ipython3",
   "version": "3.7.5"
  }
 },
 "nbformat": 4,
 "nbformat_minor": 4
}
